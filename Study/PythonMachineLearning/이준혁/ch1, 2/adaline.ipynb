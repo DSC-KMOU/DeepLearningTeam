{
 "cells": [
  {
   "cell_type": "code",
   "execution_count": 94,
   "metadata": {},
   "outputs": [],
   "source": [
    "import numpy as np\n",
    "import pandas as pd\n",
    "import tensorflow as tf\n",
    "from tensorflow.keras import layers as layers\n",
    "import matplotlib.pyplot as plt \n",
    "\n",
    "import tensorflow.keras.backend as kb\n",
    "#####\n",
    "#텐서플로우 커스텀 레이어로 adaline 구현 및 미니배치 학습 구현\n",
    "#####"
   ]
  },
  {
   "cell_type": "code",
   "execution_count": 95,
   "metadata": {},
   "outputs": [
    {
     "data": {
      "text/plain": [
       "'\\nWine Quality Dataset\\nThe Wine Quality Dataset involves predicting the quality of white wines on a scale given chemical measures of each wine.\\n\\nIt is a multi-class classification problem, but could also be framed as a regression problem. \\nThe number of observations for each class is not balanced. \\nThere are 4,898 observations with 11 input variables and one output variable. The variable names are as follows:\\n\\nFixed acidity.\\nVolatile acidity.\\nCitric acid.\\nResidual sugar.\\nChlorides.\\nFree sulfur dioxide.\\nTotal sulfur dioxide.\\nDensity.\\npH.\\nSulphates.\\nAlcohol.\\nQuality (score between 0 and 10).\\nThe baseline performance of predicting the mean value is an RMSE of approximately 0.148 quality points.\\n'"
      ]
     },
     "execution_count": 95,
     "metadata": {},
     "output_type": "execute_result"
    }
   ],
   "source": [
    "\"\"\"\n",
    "Wine Quality Dataset\n",
    "The Wine Quality Dataset involves predicting the quality of white wines on a scale given chemical measures of each wine.\n",
    "\n",
    "It is a multi-class classification problem, but could also be framed as a regression problem. \n",
    "The number of observations for each class is not balanced. \n",
    "There are 4,898 observations with 11 input variables and one output variable. The variable names are as follows:\n",
    "\n",
    "Fixed acidity.\n",
    "Volatile acidity.\n",
    "Citric acid.\n",
    "Residual sugar.\n",
    "Chlorides.\n",
    "Free sulfur dioxide.\n",
    "Total sulfur dioxide.\n",
    "Density.\n",
    "pH.\n",
    "Sulphates.\n",
    "Alcohol.\n",
    "Quality (score between 0 and 10).\n",
    "The baseline performance of predicting the mean value is an RMSE of approximately 0.148 quality points.\n",
    "\"\"\""
   ]
  },
  {
   "cell_type": "code",
   "execution_count": 96,
   "metadata": {},
   "outputs": [
    {
     "name": "stdout",
     "output_type": "stream",
     "text": [
      "      fixed acidity  volatile acidity  citric acid  residual sugar  chlorides  \\\n",
      "0               7.0              0.27         0.36            20.7      0.045   \n",
      "1               6.3              0.30         0.34             1.6      0.049   \n",
      "2               8.1              0.28         0.40             6.9      0.050   \n",
      "3               7.2              0.23         0.32             8.5      0.058   \n",
      "4               7.2              0.23         0.32             8.5      0.058   \n",
      "...             ...               ...          ...             ...        ...   \n",
      "4893            6.2              0.21         0.29             1.6      0.039   \n",
      "4894            6.6              0.32         0.36             8.0      0.047   \n",
      "4895            6.5              0.24         0.19             1.2      0.041   \n",
      "4896            5.5              0.29         0.30             1.1      0.022   \n",
      "4897            6.0              0.21         0.38             0.8      0.020   \n",
      "\n",
      "      free sulfur dioxide  total sulfur dioxide  density    pH  sulphates  \\\n",
      "0                    45.0                 170.0  1.00100  3.00       0.45   \n",
      "1                    14.0                 132.0  0.99400  3.30       0.49   \n",
      "2                    30.0                  97.0  0.99510  3.26       0.44   \n",
      "3                    47.0                 186.0  0.99560  3.19       0.40   \n",
      "4                    47.0                 186.0  0.99560  3.19       0.40   \n",
      "...                   ...                   ...      ...   ...        ...   \n",
      "4893                 24.0                  92.0  0.99114  3.27       0.50   \n",
      "4894                 57.0                 168.0  0.99490  3.15       0.46   \n",
      "4895                 30.0                 111.0  0.99254  2.99       0.46   \n",
      "4896                 20.0                 110.0  0.98869  3.34       0.38   \n",
      "4897                 22.0                  98.0  0.98941  3.26       0.32   \n",
      "\n",
      "      alcohol  quality  \n",
      "0         8.8        6  \n",
      "1         9.5        6  \n",
      "2        10.1        6  \n",
      "3         9.9        6  \n",
      "4         9.9        6  \n",
      "...       ...      ...  \n",
      "4893     11.2        6  \n",
      "4894      9.6        5  \n",
      "4895      9.4        6  \n",
      "4896     12.8        7  \n",
      "4897     11.8        6  \n",
      "\n",
      "[4898 rows x 12 columns]\n"
     ]
    }
   ],
   "source": [
    "data=pd.read_csv(\"C:\\\\Users\\ksi03\\Desktop\\DeepLearningTeam\\Study\\PythonMachineLearning\\이준혁\\winequality-white.csv\", sep=';')\n",
    "print(data)"
   ]
  },
  {
   "cell_type": "code",
   "execution_count": 134,
   "metadata": {},
   "outputs": [
    {
     "name": "stdout",
     "output_type": "stream",
     "text": [
      "float64\n",
      "float64\n",
      "float64\n",
      "float64\n"
     ]
    }
   ],
   "source": [
    "dataset=[\"fixed acidity\",\"volatile acidity\", \"citric acid\", \"residual sugar\", \"chlorides\", \"free sulfur dioxide\", \n",
    "         \"total sulfur dioxide\", \"density\", \"pH\", \"sulphates\", \"alcohol\"]\n",
    "\n",
    "\n",
    "x_data=data.loc[:,dataset].values     #fixed acidity~Alcohol을 input dataset으로 정의\n",
    "y_data=data.loc[:, \"quality\"].values\n",
    "\n",
    "for i in range(len(y_data)):\n",
    "    if y_data[i]<6:     #0~5\n",
    "        y_data[i]=0.0/1\n",
    "    if y_data[i]>=6:     #0~5\n",
    "        y_data[i]=1.0/1\n",
    "        \n",
    "x_train=x_data[0:3000]\n",
    "y_train=y_data[0:3000].astype('float64')\n",
    "\n",
    "x_valid=x_data[3000:]\n",
    "y_valid=y_data[3000:].astype('float64')\n",
    "\n",
    "\n",
    "print(y_train.dtype)\n",
    "print(x_train.dtype)\n",
    "print(y_valid.dtype)\n",
    "print(x_valid.dtype)"
   ]
  },
  {
   "cell_type": "code",
   "execution_count": 135,
   "metadata": {},
   "outputs": [
    {
     "data": {
      "text/plain": [
       "Text(0.5, 1.0, 'alchohol-acidity scatter')"
      ]
     },
     "execution_count": 135,
     "metadata": {},
     "output_type": "execute_result"
    },
    {
     "data": {
      "image/png": "[encoded data removed]",
      "text/plain": [
       "<Figure size 432x288 with 1 Axes>"
      ]
     },
     "metadata": {
      "needs_background": "light"
     },
     "output_type": "display_data"
    }
   ],
   "source": [
    "plt.scatter(x_data[0:100, 10], x_data[0:100, 0], color='red', marker='o')\n",
    "plt.scatter(x_data[100:200, 10], x_data[100:200, 0], color='blue', marker='o')\n",
    "\n",
    "plt.xlabel('alchohol')\n",
    "plt.ylabel('fixed acidity')\n",
    "plt.title('alchohol-acidity scatter')\n",
    "#특성이 다양한 고차원 배열이기에 두 특성만으로 분류를 나타내기 어렵다..만 그냥 예시적으로 보자"
   ]
  },
  {
   "cell_type": "code",
   "execution_count": 155,
   "metadata": {},
   "outputs": [],
   "source": [
    "class adaline_custom(layers.Layer):\n",
    "    \"\"\"custom layer with one weight and one bias\"\"\"\n",
    "    def __init__(self, input_size):\n",
    "        super(adaline_custom, self).__init__()\n",
    "        \n",
    "        self.w1 = self.add_weight(shape=(input_size, 11),\n",
    "                             trainable=True,\n",
    "                             dtype='float32')\n",
    "\n",
    "\n",
    "        self.b1 = self.add_weight(shape=(11, ),\n",
    "                             trainable=True,\n",
    "                             dtype='float32')\n",
    "\n",
    "\n",
    "    def call(self, inputs, activation_function='relu'):\n",
    "\n",
    "        input1=tf.matmul(inputs, self.w1) + self.b1\n",
    "        out=tf.nn.sigmoid(input1)\n",
    "        #out=0\n",
    "        #if(input1>=0): out=1\n",
    "        #elif(input1<0): out=-1\n",
    "        #다중 레이블 데이터이기에 일반 계단함수 사용 불가\n",
    "        return out\n",
    "\n",
    "    def getweight(self):\n",
    "        return self.w1\n",
    "\n",
    "    def getbias(self):\n",
    "        return self.b1\n",
    "   "
   ]
  },
  {
   "cell_type": "code",
   "execution_count": 156,
   "metadata": {},
   "outputs": [],
   "source": [
    "input1=tf.keras.Input(shape=[11])\n",
    "output=adaline_custom(input_size=11)(input1)\n",
    "model = tf.keras.models.Model(inputs=input1, outputs=output)"
   ]
  },
  {
   "cell_type": "code",
   "execution_count": 157,
   "metadata": {},
   "outputs": [],
   "source": [
    "def sse(y_true, y_pred):\n",
    "    loss=kb.sum(0.5*(y_true-y_pred))\n",
    "    return loss"
   ]
  },
  {
   "cell_type": "code",
   "execution_count": 164,
   "metadata": {},
   "outputs": [],
   "source": [
    "model.compile(optimizer=tf.keras.optimizers.Adam(learning_rate=0.001),\n",
    "              loss= sse, \n",
    "             metric=['accuracy'])"
   ]
  },
  {
   "cell_type": "code",
   "execution_count": 165,
   "metadata": {},
   "outputs": [
    {
     "name": "stdout",
     "output_type": "stream",
     "text": [
      "Train on 3000 samples\n",
      "3000/3000 [==============================] - 0s 72us/sample - loss: -549.9350\n",
      "Train on 3000 samples\n",
      "3000/3000 [==============================] - 0s 15us/sample - loss: -549.9750\n",
      "Train on 3000 samples\n",
      "3000/3000 [==============================] - 0s 15us/sample - loss: -549.9854\n",
      "Train on 3000 samples\n",
      "3000/3000 [==============================] - 0s 16us/sample - loss: -549.9901\n",
      "Train on 3000 samples\n",
      "3000/3000 [==============================] - 0s 15us/sample - loss: -549.9930\n",
      "Train on 3000 samples\n",
      "3000/3000 [==============================] - 0s 15us/sample - loss: -549.9942\n",
      "Train on 3000 samples\n",
      "3000/3000 [==============================] - 0s 15us/sample - loss: -549.9956\n",
      "Train on 3000 samples\n",
      "3000/3000 [==============================] - 0s 15us/sample - loss: -549.9963\n",
      "Train on 3000 samples\n",
      "3000/3000 [==============================] - 0s 15us/sample - loss: -549.9969\n",
      "Train on 3000 samples\n",
      "3000/3000 [==============================] - 0s 15us/sample - loss: -549.9974\n",
      "Train on 3000 samples\n",
      "3000/3000 [==============================] - 0s 15us/sample - loss: -549.9977\n",
      "Train on 3000 samples\n",
      "3000/3000 [==============================] - 0s 16us/sample - loss: -549.9980\n",
      "Train on 3000 samples\n",
      "3000/3000 [==============================] - 0s 16us/sample - loss: -549.9982\n",
      "Train on 3000 samples\n",
      "3000/3000 [==============================] - 0s 15us/sample - loss: -549.9984\n",
      "Train on 3000 samples\n",
      "3000/3000 [==============================] - 0s 15us/sample - loss: -549.9986\n",
      "Train on 3000 samples\n",
      "3000/3000 [==============================] - 0s 15us/sample - loss: -549.9987\n",
      "Train on 3000 samples\n",
      "3000/3000 [==============================] - 0s 16us/sample - loss: -549.9988\n",
      "Train on 3000 samples\n",
      "3000/3000 [==============================] - 0s 15us/sample - loss: -549.9989\n",
      "Train on 3000 samples\n",
      "3000/3000 [==============================] - 0s 15us/sample - loss: -549.9990\n",
      "Train on 3000 samples\n",
      "3000/3000 [==============================] - 0s 15us/sample - loss: -549.9991\n",
      "Train on 3000 samples\n",
      "3000/3000 [==============================] - 0s 15us/sample - loss: -549.9992\n",
      "Train on 3000 samples\n",
      "3000/3000 [==============================] - 0s 15us/sample - loss: -549.9992\n",
      "Train on 3000 samples\n",
      "3000/3000 [==============================] - 0s 16us/sample - loss: -549.9993\n",
      "Train on 3000 samples\n",
      "3000/3000 [==============================] - 0s 16us/sample - loss: -549.9993\n",
      "Train on 3000 samples\n",
      "3000/3000 [==============================] - 0s 17us/sample - loss: -549.9994\n",
      "Train on 3000 samples\n",
      "3000/3000 [==============================] - 0s 16us/sample - loss: -549.9994\n",
      "Train on 3000 samples\n",
      "3000/3000 [==============================] - 0s 16us/sample - loss: -549.9994\n",
      "Train on 3000 samples\n",
      "3000/3000 [==============================] - 0s 15us/sample - loss: -549.9995\n",
      "Train on 3000 samples\n",
      "3000/3000 [==============================] - 0s 16us/sample - loss: -549.9995\n",
      "Train on 3000 samples\n",
      "3000/3000 [==============================] - 0s 17us/sample - loss: -549.9995\n",
      "Train on 3000 samples\n",
      "3000/3000 [==============================] - 0s 17us/sample - loss: -549.9996\n",
      "Train on 3000 samples\n",
      "3000/3000 [==============================] - 0s 16us/sample - loss: -549.9996\n",
      "Train on 3000 samples\n",
      "3000/3000 [==============================] - 0s 16us/sample - loss: -549.9996\n",
      "Train on 3000 samples\n",
      "3000/3000 [==============================] - 0s 17us/sample - loss: -549.9996\n",
      "Train on 3000 samples\n",
      "3000/3000 [==============================] - 0s 16us/sample - loss: -549.9996\n",
      "Train on 3000 samples\n",
      "3000/3000 [==============================] - 0s 16us/sample - loss: -549.9997\n",
      "Train on 3000 samples\n",
      "3000/3000 [==============================] - 0s 17us/sample - loss: -549.9997\n",
      "Train on 3000 samples\n",
      "3000/3000 [==============================] - 0s 16us/sample - loss: -549.9997\n",
      "Train on 3000 samples\n",
      "3000/3000 [==============================] - 0s 16us/sample - loss: -549.9997\n",
      "Train on 3000 samples\n",
      "3000/3000 [==============================] - 0s 16us/sample - loss: -549.9997\n",
      "Train on 3000 samples\n",
      "3000/3000 [==============================] - 0s 15us/sample - loss: -549.9997\n",
      "Train on 3000 samples\n",
      "3000/3000 [==============================] - 0s 15us/sample - loss: -549.9997\n",
      "Train on 3000 samples\n",
      "3000/3000 [==============================] - 0s 16us/sample - loss: -549.9997\n",
      "Train on 3000 samples\n",
      "3000/3000 [==============================] - 0s 15us/sample - loss: -549.9998\n",
      "Train on 3000 samples\n",
      "3000/3000 [==============================] - 0s 18us/sample - loss: -549.9998\n",
      "Train on 3000 samples\n",
      "3000/3000 [==============================] - 0s 15us/sample - loss: -549.9998\n",
      "Train on 3000 samples\n",
      "3000/3000 [==============================] - 0s 15us/sample - loss: -549.9998\n",
      "Train on 3000 samples\n",
      "3000/3000 [==============================] - 0s 15us/sample - loss: -549.9998\n",
      "Train on 3000 samples\n",
      "3000/3000 [==============================] - 0s 16us/sample - loss: -549.9998\n",
      "Train on 3000 samples\n",
      "3000/3000 [==============================] - 0s 17us/sample - loss: -549.9998\n",
      "Train on 3000 samples\n",
      "3000/3000 [==============================] - 0s 16us/sample - loss: -549.9998\n",
      "Train on 3000 samples\n",
      "3000/3000 [==============================] - 0s 15us/sample - loss: -549.9998\n",
      "Train on 3000 samples\n",
      "3000/3000 [==============================] - 0s 16us/sample - loss: -549.9998\n",
      "Train on 3000 samples\n",
      "3000/3000 [==============================] - 0s 16us/sample - loss: -549.9998\n",
      "Train on 3000 samples\n",
      "3000/3000 [==============================] - 0s 15us/sample - loss: -549.9998\n",
      "Train on 3000 samples\n",
      "3000/3000 [==============================] - 0s 15us/sample - loss: -549.9998\n",
      "Train on 3000 samples\n",
      "3000/3000 [==============================] - 0s 14us/sample - loss: -549.9998\n",
      "Train on 3000 samples\n",
      "3000/3000 [==============================] - 0s 14us/sample - loss: -549.9998\n",
      "Train on 3000 samples\n",
      "3000/3000 [==============================] - 0s 15us/sample - loss: -549.9998\n",
      "Train on 3000 samples\n",
      "3000/3000 [==============================] - 0s 15us/sample - loss: -549.9999\n",
      "Train on 3000 samples\n",
      "3000/3000 [==============================] - 0s 15us/sample - loss: -549.9999\n",
      "Train on 3000 samples\n",
      "3000/3000 [==============================] - 0s 14us/sample - loss: -549.9999\n",
      "Train on 3000 samples\n",
      "3000/3000 [==============================] - 0s 14us/sample - loss: -549.9999\n",
      "Train on 3000 samples\n",
      "3000/3000 [==============================] - 0s 15us/sample - loss: -549.9999\n",
      "Train on 3000 samples\n",
      "3000/3000 [==============================] - 0s 14us/sample - loss: -549.9999\n",
      "Train on 3000 samples\n",
      "3000/3000 [==============================] - 0s 15us/sample - loss: -549.9999\n",
      "Train on 3000 samples\n",
      "3000/3000 [==============================] - 0s 15us/sample - loss: -549.9999\n",
      "Train on 3000 samples\n",
      "3000/3000 [==============================] - 0s 15us/sample - loss: -549.9999\n",
      "Train on 3000 samples\n",
      "3000/3000 [==============================] - 0s 17us/sample - loss: -549.9999\n",
      "Train on 3000 samples\n",
      "3000/3000 [==============================] - 0s 17us/sample - loss: -549.9999\n",
      "Train on 3000 samples\n",
      "3000/3000 [==============================] - 0s 17us/sample - loss: -549.9999\n",
      "Train on 3000 samples\n",
      "3000/3000 [==============================] - 0s 16us/sample - loss: -549.9999\n",
      "Train on 3000 samples\n",
      "3000/3000 [==============================] - 0s 16us/sample - loss: -549.9999\n",
      "Train on 3000 samples\n",
      "3000/3000 [==============================] - 0s 15us/sample - loss: -549.9999\n",
      "Train on 3000 samples\n",
      "3000/3000 [==============================] - 0s 16us/sample - loss: -549.9999\n",
      "Train on 3000 samples\n",
      "3000/3000 [==============================] - 0s 18us/sample - loss: -549.9999\n",
      "Train on 3000 samples\n",
      "3000/3000 [==============================] - 0s 19us/sample - loss: -549.9999\n",
      "Train on 3000 samples\n",
      "3000/3000 [==============================] - 0s 16us/sample - loss: -549.9999\n",
      "Train on 3000 samples\n",
      "3000/3000 [==============================] - 0s 16us/sample - loss: -549.9999\n",
      "Train on 3000 samples\n",
      "3000/3000 [==============================] - 0s 15us/sample - loss: -549.9999\n",
      "Train on 3000 samples\n",
      "3000/3000 [==============================] - 0s 14us/sample - loss: -549.9999\n",
      "Train on 3000 samples\n",
      "3000/3000 [==============================] - 0s 17us/sample - loss: -549.9999\n"
     ]
    },
    {
     "name": "stdout",
     "output_type": "stream",
     "text": [
      "Train on 3000 samples\n",
      "3000/3000 [==============================] - 0s 16us/sample - loss: -549.9999\n",
      "Train on 3000 samples\n",
      "3000/3000 [==============================] - 0s 16us/sample - loss: -549.9999\n",
      "Train on 3000 samples\n",
      "3000/3000 [==============================] - 0s 14us/sample - loss: -549.9999\n",
      "Train on 3000 samples\n",
      "3000/3000 [==============================] - 0s 16us/sample - loss: -549.9999\n",
      "Train on 3000 samples\n",
      "3000/3000 [==============================] - 0s 15us/sample - loss: -549.9999\n",
      "Train on 3000 samples\n",
      "3000/3000 [==============================] - 0s 15us/sample - loss: -549.9999\n",
      "Train on 3000 samples\n",
      "3000/3000 [==============================] - 0s 15us/sample - loss: -549.9999\n",
      "Train on 3000 samples\n",
      "3000/3000 [==============================] - 0s 14us/sample - loss: -549.9999\n",
      "Train on 3000 samples\n",
      "3000/3000 [==============================] - 0s 16us/sample - loss: -549.9999\n",
      "Train on 3000 samples\n",
      "3000/3000 [==============================] - 0s 18us/sample - loss: -549.9999\n",
      "Train on 3000 samples\n",
      "3000/3000 [==============================] - 0s 17us/sample - loss: -549.9999\n",
      "Train on 3000 samples\n",
      "3000/3000 [==============================] - 0s 16us/sample - loss: -549.9999\n",
      "Train on 3000 samples\n",
      "3000/3000 [==============================] - 0s 18us/sample - loss: -549.9999\n",
      "Train on 3000 samples\n",
      "3000/3000 [==============================] - 0s 19us/sample - loss: -549.9999\n",
      "Train on 3000 samples\n",
      "3000/3000 [==============================] - 0s 16us/sample - loss: -549.9999\n",
      "Train on 3000 samples\n",
      "3000/3000 [==============================] - 0s 17us/sample - loss: -549.9999\n",
      "Train on 3000 samples\n",
      "3000/3000 [==============================] - 0s 15us/sample - loss: -549.9999\n",
      "Train on 3000 samples\n",
      "3000/3000 [==============================] - 0s 15us/sample - loss: -549.9999\n"
     ]
    }
   ],
   "source": [
    "loss=[]\n",
    "for step in range(100):\n",
    "    train_hist = model.fit(x_train, y_train, batch_size=100, verbose=1)\n",
    "    loss.append(train_hist.history['loss'][0])"
   ]
  },
  {
   "cell_type": "code",
   "execution_count": 166,
   "metadata": {},
   "outputs": [
    {
     "data": {
      "image/png": "[encoded data removed]",
      "text/plain": [
       "<Figure size 432x288 with 1 Axes>"
      ]
     },
     "metadata": {
      "needs_background": "light"
     },
     "output_type": "display_data"
    }
   ],
   "source": [
    "plt.plot(loss)\n",
    "plt.xlabel('step')\n",
    "plt.ylabel('sse')\n",
    "\n",
    "plt.show()"
   ]
  },
  {
   "cell_type": "markdown",
   "metadata": {},
   "source": [
    "conclusion\n",
    "adaline was available to minimize loss"
   ]
  }
 ],
 "metadata": {
  "kernelspec": {
   "display_name": "Python 3",
   "language": "python",
   "name": "python3"
  },
  "language_info": {
   "codemirror_mode": {
    "name": "ipython",
    "version": 3
   },
   "file_extension": ".py",
   "mimetype": "text/x-python",
   "name": "python",
   "nbconvert_exporter": "python",
   "pygments_lexer": "ipython3",
   "version": "3.6.2"
  }
 },
 "nbformat": 4,
 "nbformat_minor": 2
}
