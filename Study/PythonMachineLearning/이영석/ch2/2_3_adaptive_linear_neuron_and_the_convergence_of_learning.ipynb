{
 "cells": [
  {
   "cell_type": "markdown",
   "metadata": {},
   "source": [
    "# 2.3 적응형 선형 뉴런과 학습의 수렴\n",
    "\n",
    "- 적응형 선형 뉴런(ADAptive LInear NEuron, ADALINE)\n",
    "    - 단일층 신경망의 또 다른 종류이며 아달린이라고 함\n",
    "    - 퍼셉트론의 향상된 버전으로 볼 수 있음\n",
    "    \n",
    "    \n",
    "- 퍼셉트론과 아달린의 비교\n",
    "    - 아달린은 가중치 업데이트에 **선형 활성화 함수**를 사용함\n",
    "    - 따라서, 선형 활성화 함수$\\phi(z)$ 는 최종 입력과 동일함 (아래 식 참고)\n",
    "    - $\\phi(z) = \\phi(w^Tx) = w^Tx = z$ $(\\therefore \\phi(z) = z)$\n",
    "    - 하지만 최종 예측에는 여전히 임계함수를 사용함\n",
    "    \n",
    "\n",
    "- 요약\n",
    "    - 아달린 알고리즘은 실수 출력 값을 비교하여 모델의 오차를 계산하고 가중치를 업데이트\n",
    "    - 퍼셉트론 알고리즘은 진짜 클래스 레이블과 예측 클래스 레이블을 비교해 모델의 오차를 계산하고 가중치를 업데이트"
   ]
  },
  {
   "cell_type": "markdown",
   "metadata": {},
   "source": [
    "### 2.3.1 경사 하강법으로 비용함수 최소화\n",
    "\n",
    "- 아달린 알고리즘의 비용 함수(또는 목적함수, 손실함수라고도 함)\n",
    "    - 제곱 오차 합(Sum of Squared Errors, SSE)\n",
    "    - $ J(w) = \\frac{1}{2} \\sum_{i} (y^{(i)}-\\phi(z^{(i)}))^2$ (∵$\\frac{1}{2}$항은 gradient를 간소화 하기 위해 편의상 추가한 것)\n",
    "    \n",
    "    \n",
    "- 연속적인 선형 활성화 함수의 장점\n",
    "    - 비용 함수가 **미분이 가능**하며 볼록 함수\n",
    "    - 위의 두 장점을 통해 **경사 하강법(gradient descent)**를 적용할 수 있음\n",
    "    \n",
    "    \n",
    "- 경사 하강법(gradient descent)\n",
    "    - 각 반복에서 경사의 반대방향으로 진행\n",
    "    - 진행 크기는 경사의 기울기와 학습률로 결정\n",
    "    - 경사 하강법을 사용하면 비용함수 $J(w)$의 그래디언트 $\\nabla J(w)$ 반대 방향으로 조금씩 가중치를 업데이트\n",
    "    \n",
    "    \n",
    "- 아달린의 학습 규칙\n",
    "    - $w^{(i)} = w^{(i-1)} + \\Delta w^{(i)}$,  $\\Delta w^{(i)} = -\\eta \\nabla J(w)$\n",
    "    - $\\therefore w^{(i)} = w^{(i-1)} -\\eta \\nabla J(w)$\n",
    "\n",
    "    \n",
    "- 각 가중치 $w_j$의 업데이트 공식\n",
    "    - $\\frac{\\partial J(w)}{\\partial w_j} = \\frac{\\partial}{\\partial w_j} \\Bigl( \\frac{1}{2} \\sum_{i} \\bigl(y^{(i)}-\\phi(z^{(i)})\\bigr)^2 \\Bigr)$\n",
    "        - $\\require{cancel} = \\cancel{\\frac{1}{2}} \\cancel{2} \\sum_{i} \\bigl(y^{(i)}-\\phi(z^{(i)})\\bigr) \\frac{\\partial}{\\partial w_j} \\sum_{i} \\bigl(y^{(i)}-\\phi(z^{(i)})\\bigr)$\n",
    "        - $= \\sum_{i} \\bigl(y^{(i)}-\\phi(z^{(i)})\\bigr) \\frac{\\partial}{\\partial w_j} \\sum_{i} \\bigl(y^{(i)}-w^{(i)}x^{(i)}\\bigr)$\n",
    "        - $= \\sum_{i} \\bigl(y^{(i)}-\\phi(z^{(i)})\\bigr) \\frac{\\partial}{\\partial w_j} \\sum_{i} \\bigl(-w^{(i)}_j x^{(i)}_j\\bigr)$\n",
    "        - $= \\sum_{i} \\bigl(y^{(i)}-\\phi(z^{(i)})\\bigr) \\bigl(-x^{(i)}_j\\bigr)$\n",
    "        - $= -\\sum_{i} \\bigl(y^{(i)}-\\phi(z^{(i)})\\bigr) \\bigl(x^{(i)}_j\\bigr)$\n",
    "    - $\\therefore \\Delta w_j = -\\eta \\frac{\\partial J}{\\partial w_j} = \\eta \\sum_i \\bigl(y^{(i)} - \\phi(z^{(i)}) \\bigr) x_j^{(i)}$\n",
    "    \n",
    "    \n",
    "- 아달린 학습 규칙은 실수를 대상으로 함\n",
    "- 아달린의 학습은 모든 훈련 세트의 샘플을 기반으로 가중치를 업데이트 하는데, 이 방식을 **배치 경사 하강법(batch gradient descent)**라고 함"
   ]
  },
  {
   "cell_type": "markdown",
   "metadata": {},
   "source": [
    "### 2.3.2 파이썬으로 아달린 구현"
   ]
  },
  {
   "cell_type": "code",
   "execution_count": 1,
   "metadata": {},
   "outputs": [
    {
     "data": {
      "text/html": [
       "<div>\n",
       "<style scoped>\n",
       "    .dataframe tbody tr th:only-of-type {\n",
       "        vertical-align: middle;\n",
       "    }\n",
       "\n",
       "    .dataframe tbody tr th {\n",
       "        vertical-align: top;\n",
       "    }\n",
       "\n",
       "    .dataframe thead th {\n",
       "        text-align: right;\n",
       "    }\n",
       "</style>\n",
       "<table border=\"1\" class=\"dataframe\">\n",
       "  <thead>\n",
       "    <tr style=\"text-align: right;\">\n",
       "      <th></th>\n",
       "      <th>0</th>\n",
       "      <th>1</th>\n",
       "      <th>2</th>\n",
       "      <th>3</th>\n",
       "      <th>4</th>\n",
       "    </tr>\n",
       "  </thead>\n",
       "  <tbody>\n",
       "    <tr>\n",
       "      <th>145</th>\n",
       "      <td>6.7</td>\n",
       "      <td>3.0</td>\n",
       "      <td>5.2</td>\n",
       "      <td>2.3</td>\n",
       "      <td>Iris-virginica</td>\n",
       "    </tr>\n",
       "    <tr>\n",
       "      <th>146</th>\n",
       "      <td>6.3</td>\n",
       "      <td>2.5</td>\n",
       "      <td>5.0</td>\n",
       "      <td>1.9</td>\n",
       "      <td>Iris-virginica</td>\n",
       "    </tr>\n",
       "    <tr>\n",
       "      <th>147</th>\n",
       "      <td>6.5</td>\n",
       "      <td>3.0</td>\n",
       "      <td>5.2</td>\n",
       "      <td>2.0</td>\n",
       "      <td>Iris-virginica</td>\n",
       "    </tr>\n",
       "    <tr>\n",
       "      <th>148</th>\n",
       "      <td>6.2</td>\n",
       "      <td>3.4</td>\n",
       "      <td>5.4</td>\n",
       "      <td>2.3</td>\n",
       "      <td>Iris-virginica</td>\n",
       "    </tr>\n",
       "    <tr>\n",
       "      <th>149</th>\n",
       "      <td>5.9</td>\n",
       "      <td>3.0</td>\n",
       "      <td>5.1</td>\n",
       "      <td>1.8</td>\n",
       "      <td>Iris-virginica</td>\n",
       "    </tr>\n",
       "  </tbody>\n",
       "</table>\n",
       "</div>"
      ],
      "text/plain": [
       "       0    1    2    3               4\n",
       "145  6.7  3.0  5.2  2.3  Iris-virginica\n",
       "146  6.3  2.5  5.0  1.9  Iris-virginica\n",
       "147  6.5  3.0  5.2  2.0  Iris-virginica\n",
       "148  6.2  3.4  5.4  2.3  Iris-virginica\n",
       "149  5.9  3.0  5.1  1.8  Iris-virginica"
      ]
     },
     "execution_count": 1,
     "metadata": {},
     "output_type": "execute_result"
    }
   ],
   "source": [
    "# 붓꽃 데이터셋 로드\n",
    "\n",
    "import pandas as pd\n",
    "df = pd.read_csv(\"https://archive.ics.uci.edu/ml/machine-learning-databases/iris/iris.data\",\n",
    "                header=None)\n",
    "\n",
    "df.tail()"
   ]
  },
  {
   "cell_type": "code",
   "execution_count": 2,
   "metadata": {},
   "outputs": [
    {
     "name": "stdout",
     "output_type": "stream",
     "text": [
      "(100, 2) (100,)\n",
      "(2,)\n",
      "(100,)\n",
      "(2,)\n"
     ]
    }
   ],
   "source": [
    "import numpy as np\n",
    "\n",
    "# 4번째 열이 class\n",
    "# Iris-setosa면 1, Iris-versicolor -1\n",
    "y = df.iloc[0:100, 4].values\n",
    "y = np.where(y=='Iris-setosa', 1, -1)\n",
    "\n",
    "# 2번째, 4번째 열이 각각 꽃받침 길이, 꽃잎 길이\n",
    "X = df.iloc[0:100, [0, 2]].values\n",
    "\n",
    "print(X.shape, y.shape)\n",
    "a = np.array([1, 2])\n",
    "print(a.shape)\n",
    "print(np.dot(a, X.T).shape)\n",
    "print(np.dot(y, X).shape)"
   ]
  },
  {
   "cell_type": "code",
   "execution_count": 3,
   "metadata": {},
   "outputs": [],
   "source": [
    "# 아달린 구현\n",
    "\n",
    "class Adaline:\n",
    "    def __init__(self, eta=0.01, epochs=50, random_state=1):\n",
    "        self.eta = eta\n",
    "        self.epochs = epochs\n",
    "        self.random_state = 1\n",
    "        \n",
    "    \n",
    "    def fit(self, X, y):\n",
    "        rgen = np.random.RandomState(self.random_state)\n",
    "        self.w_ = rgen.normal(loc=0.0, scale=0.01,\n",
    "                              size=X.shape[1]+1)\n",
    "        \n",
    "        self.cost_ = []\n",
    "        \n",
    "        for _ in range(self.epochs):\n",
    "            net_input = self.net_input(X)\n",
    "            output = self.activation(net_input)\n",
    "            errors = (y - output)\n",
    "            \n",
    "            self.w_[0] += self.eta * errors.sum()\n",
    "            self.w_[1:] += self.eta * np.dot(errors, X)\n",
    "            cost = ((errors**2)/2.0).sum()\n",
    "            self.cost_.append(cost)\n",
    "            \n",
    "        return self\n",
    "        \n",
    "        \n",
    "    def activation(self, net_input):\n",
    "        return net_input\n",
    "    \n",
    "    \n",
    "    def net_input(self, X):\n",
    "        return np.dot(self.w_[1:], X.T) + self.w_[0]\n",
    "    \n",
    "    \n",
    "    def predict(self, X):\n",
    "        return np.where(self.activation(self.net_input(X))>=0.0, 1, -1)"
   ]
  },
  {
   "cell_type": "code",
   "execution_count": 4,
   "metadata": {},
   "outputs": [
    {
     "data": {
      "image/png": "[encoded data removed]",
      "text/plain": [
       "<Figure size 720x288 with 2 Axes>"
      ]
     },
     "metadata": {
      "needs_background": "light"
     },
     "output_type": "display_data"
    }
   ],
   "source": [
    "# 최적의 eta값을 찾기 위해 0.01, 0.0001에 대해 테스트하고 그래프 출력 후 비교\n",
    "\n",
    "import matplotlib.pyplot as plt\n",
    "\n",
    "# 1행 2열 plot 생성\n",
    "fig, ax = plt.subplots(nrows=1, ncols=2, figsize=(10, 4))\n",
    "\n",
    "# eta 0.01인 Adaline에 학습 및 1행 1열 plot에 출력\n",
    "ada1 = Adaline(epochs=10, eta=0.01).fit(X, y)\n",
    "ax[0].plot(range(1, len(ada1.cost_)+1), np.log10(ada1.cost_), marker='o')\n",
    "ax[0].set_xlabel('Epochs')\n",
    "ax[0].set_ylabel('log(Sum-squared-error)')\n",
    "ax[0].set_title('Adaline - Learning Rate 0.01')\n",
    "\n",
    "# eta 0.0001인 Adaline에 학습 및 1행 2열 plot에 출력\n",
    "ada2 = Adaline(epochs=10, eta=0.0001).fit(X, y)\n",
    "ax[1].plot(range(1, len(ada2.cost_)+1), np.log10(ada2.cost_), marker='o')\n",
    "ax[1].set_xlabel('Epochs')\n",
    "ax[1].set_ylabel('log(Sum-squared-error)')\n",
    "ax[1].set_title('Adaline - Learning Rate 0.0001')\n",
    "\n",
    "plt.show()"
   ]
  },
  {
   "cell_type": "markdown",
   "metadata": {},
   "source": [
    "**결과 분석**\n",
    "- eta 0.01\n",
    "    - 비용 함수를 최소화하지 못하고 오차가 점점 더 커짐\n",
    "    - global minimum으로 가지 못하고 지나쳐버림\n",
    "    \n",
    "- eta 0.0001\n",
    "    - 비용이 감소하고는 있지만 $\\eta$(학습률)이 너무 작아서 global minimum에 수렴하려면 아주 많은 epoch이 필요\n",
    "    \n",
    "\n",
    "- **적절한 학습률을 사용해야 함**"
   ]
  },
  {
   "cell_type": "markdown",
   "metadata": {},
   "source": [
    "### 2.3.3 특성 스케일을 조정하여 경사 하강법 결과 향상\n",
    "- 표준화(standardization)\n",
    "    - Feature의 scale을 조절하는 방법 중 하나\n",
    "    - Data에 표준정규분포(평균0, 표준편차1)의 성질을 부여해 경사 하강법 학습이 빠르게 수렴되로록 함\n",
    "    \n",
    "    \n",
    "- 표준화 방법\n",
    "    - 각 feature별로 평균을 빼주고 표준편차로 나눔\n",
    "    - 식으로 나타내면 다음과 같음\n",
    "    - $x^{\\prime}_j = \\frac{x_j - \\mu_j}{\\sigma_j}$\n",
    "        - $x_j$ : $j$번째 feature 샘플\n",
    "        - $\\mu_j$ : $j$번째 feature 샘플 벡터의 평균\n",
    "        - $\\sigma_j$ : $j$번째 feature 샘플 벡터의 표준 편차"
   ]
  },
  {
   "cell_type": "code",
   "execution_count": 5,
   "metadata": {},
   "outputs": [],
   "source": [
    "from matplotlib.colors import ListedColormap\n",
    "\n",
    "def plot_decision_regions(X, y, classifier, resolution=0.02):\n",
    "    # matplotlib에서 정의한 점 표시 모양\n",
    "    markers = ('s', 'x', 'o', '^', 'v')\n",
    "    # 각 점을 표시할 색깔\n",
    "    colors = ('red', 'blue', 'lightgreen', 'gray', 'cyan')\n",
    "    # y에 있는 class의 수 만큼의 color map을 만듦\n",
    "    cmap = ListedColormap(colors[:len(np.unique(y))])\n",
    "    \n",
    "    # 각 feature의 최소값-1에서, 최대값+1까지 resolution간격인 배열을 만들고\n",
    "    # 그 배열들을 각각 X, Y축으로 하는 좌표 평면 배열을 만듦\n",
    "    x1_min, x1_max = X[:, 0].min()-1, X[:, 0].max()+1\n",
    "    x2_min, x2_max = X[:, 1].min()-1, X[:, 1].max()+1\n",
    "    xx1, xx2 = np.meshgrid(np.arange(x1_min, x1_max, resolution),\n",
    "                           np.arange(x2_min, x2_max, resolution))\n",
    "    \n",
    "    # feature의 범위로 이루어진 좌표 평면 배열을 \n",
    "    # 우리가 만든 퍼셉트론의 predict()에 인자로 전달해\n",
    "    # predict값으로 이루어진 좌표 평면 배열을 만듦\n",
    "    Z = classifier.predict(np.array([xx1.ravel(), xx2.ravel()]).T)\n",
    "    Z = Z.reshape(xx1.shape)\n",
    "    \n",
    "    # 위에서 만든 predict값 좌표 평면 그리드를\n",
    "    # contourf()를 통해 등고선 그래프로 그린다.\n",
    "    plt.contourf(xx1, xx2, Z, alpha=0.3, cmap=cmap)\n",
    "    plt.xlim(xx1.min(), xx1.max())\n",
    "    plt.ylim(xx2.min(), xx2.max())\n",
    "    \n",
    "    # 산점도 그리기\n",
    "    for idx, cl in enumerate(np.unique(y)):\n",
    "        plt.scatter(x=X[y==cl, 0],\n",
    "                    y=X[y==cl, 1],\n",
    "                    alpha=0.8,\n",
    "                    c=colors[idx],\n",
    "                    marker=markers[idx],\n",
    "                    label=cl,\n",
    "                    edgecolor='black')"
   ]
  },
  {
   "cell_type": "code",
   "execution_count": 6,
   "metadata": {
    "scrolled": false
   },
   "outputs": [
    {
     "data": {
      "image/png": "[encoded data removed]",
      "text/plain": [
       "<Figure size 432x288 with 1 Axes>"
      ]
     },
     "metadata": {
      "needs_background": "light"
     },
     "output_type": "display_data"
    },
    {
     "data": {
      "image/png": "[encoded data removed]",
      "text/plain": [
       "<Figure size 432x288 with 1 Axes>"
      ]
     },
     "metadata": {
      "needs_background": "light"
     },
     "output_type": "display_data"
    }
   ],
   "source": [
    "# standardization 적용\n",
    "X_std = np.copy(X)\n",
    "X_std[:, 0] = (X[:, 0] - X[:, 0].mean()) / (X[:, 0].std())\n",
    "X_std[:, 1] = (X[:, 1] - X[:, 1].mean()) / (X[:, 1].std())\n",
    "\n",
    "ada_std = Adaline(epochs=15, eta=0.01)\n",
    "ada_std.fit(X_std, y)\n",
    "\n",
    "plot_decision_regions(X_std, y, classifier=ada_std)\n",
    "plt.title('Adaline - Gradient Descent')\n",
    "plt.xlabel('sepal length [standardized]')\n",
    "plt.ylabel('petal length [standardized]')\n",
    "plt.show()\n",
    "\n",
    "plt.plot(range(1, len(ada_std.cost_)+1), ada_std.cost_, marker='o')\n",
    "plt.xlabel(\"Epochs\")\n",
    "plt.ylabel(\"Sum-squared-error\")\n",
    "plt.show()"
   ]
  },
  {
   "cell_type": "markdown",
   "metadata": {},
   "source": [
    "**결과 분석**\n",
    "- 표준화된 데이터를 사용해서 $\\eta=0.01$에서도 수렴하였음**\n",
    "- **데이터의 스케일링이 중요**"
   ]
  },
  {
   "cell_type": "markdown",
   "metadata": {},
   "source": [
    "### 2.3.4 대규모 머신 러닝과 확률적 경사 하강법(stochastic gradient descent)\n",
    "- gradient descent의 3가지 방식\n",
    "    - **batch gradient descent(배치 경사 하강법)** : **전체** 훈련 데이터에서 cost를 계산해 가중치를 업데이트\n",
    "    - **mini-batch gradient descent(미니 배치 경사 하강법)** : **일부** 훈련 데이터에서 cost를 계산해 가중치를 업데이트\n",
    "    - **stochastic gradient descent(확률적 경사 하강법)** : **하나**의 훈련 데이터에서 cost를 계산해 가중치를 업데이트\n",
    "\n",
    "    \n",
    "- stochastic gradient descent\n",
    "    - 가중치 계산\n",
    "        - 하나씩 계산하므로, batch gradient descent의 전체에 대한 부분인 $\\sum$을 지운 형태\n",
    "        - $\\require{cancel} \\therefore \\Delta w = \\eta \\cancel{\\sum_i} \\Bigl(y^{(i)} - \\phi(z^{(i)})\\bigl) x^{(i)} = \\eta \\Bigl(y^{(i)} - \\phi(z^{(i)})\\bigl) x^{(i)}$\n",
    "        \n",
    "    - 특징\n",
    "        - 가중치 업데이트가 더 자주 일어나므로 수렴 속도가 빠름\n",
    "        - gradient가 하나씩 계산되므로 오차의 궤적이 어지러움\n",
    "        - 비선형 비용 함수를 다룰 때, 얕은 local minimum을 더 쉽게 탈출할 수 있어 장점이 되기도 함\n",
    "        - 온라인 학습(online learning)에 사용 가능(스트리밍 데이터에 대해 적용 가능)\n",
    "        \n",
    "    - 좋은 결과를 얻기 위한 조건\n",
    "        - 각 epoch마다 훈련 데이터를 무작위하게 주입해야 함\n"
   ]
  },
  {
   "cell_type": "code",
   "execution_count": 7,
   "metadata": {},
   "outputs": [],
   "source": [
    "# stochastic gradient descent의 구현\n",
    "\n",
    "class AdalineSGD:\n",
    "    def __init__(self, eta=0.01, epochs=50, shuffle=True, random_state=1):\n",
    "        self.eta = eta\n",
    "        self.epochs = epochs\n",
    "        self.shuffle = shuffle\n",
    "        self.random_state = random_state\n",
    "        self.w_initialized = False\n",
    "        \n",
    "        \n",
    "    def fit(self, X, y):\n",
    "        self._weight_initialize(X.shape[1])\n",
    "        \n",
    "        self.avg_cost_ = []\n",
    "        \n",
    "        for i in range(self.epochs):\n",
    "            X, y = self._shuffle(X, y)\n",
    "            cost = []\n",
    "            \n",
    "            for xi, target in zip(X, y):\n",
    "                cost.append(self._update_weight(xi, target))\n",
    "            \n",
    "            avg_cost = np.sum(cost) / len(y)\n",
    "            self.avg_cost_.append(avg_cost)\n",
    "            \n",
    "        return self\n",
    "    \n",
    "    \n",
    "    def partial_fit(self, X, y):\n",
    "        if not w_initialized:\n",
    "            self._weight_initialize(X.shape[1])\n",
    "        \n",
    "        if y.ravel().shape[0] > 1:\n",
    "            X, y = self._shuffle(X, y)\n",
    "\n",
    "            for xi, target in zip(X, y):\n",
    "                self._update_weight(xi, target)\n",
    "\n",
    "        else:\n",
    "            self._update_weight(X, y)\n",
    "\n",
    "        return self\n",
    "            \n",
    "            \n",
    "    def _weight_initialize(self, m):\n",
    "        self.rgen = np.random.RandomState(self.random_state)\n",
    "        self.w_ = self.rgen.normal(loc=0.0, scale=0.01, size=m+1)\n",
    "        w_initialized = True\n",
    "        \n",
    "    \n",
    "    def _shuffle(self, X, y):\n",
    "        r_idx_arr = self.rgen.permutation(len(y))\n",
    "        return X[r_idx_arr], y[r_idx_arr]\n",
    "    \n",
    "    \n",
    "    def _update_weight(self, xi, target):\n",
    "        error = (target - self.activation(self.net_input(xi)))\n",
    "        self.w_[0] += self.eta * error\n",
    "        self.w_[1:] += self.eta * np.dot(error, xi.T)\n",
    "        cost = 0.5 * (error**2)\n",
    "        return cost\n",
    "        \n",
    "        \n",
    "    def activation(self, net_input):\n",
    "        return net_input\n",
    "    \n",
    "    \n",
    "    def net_input(self, xi):\n",
    "        return np.dot(self.w_[1:], xi.T) + self.w_[0]\n",
    "    \n",
    "    \n",
    "    def predict(self, X):\n",
    "        return np.where(self.activation(self.net_input(X))>=0.0, 1, -1)"
   ]
  },
  {
   "cell_type": "code",
   "execution_count": 8,
   "metadata": {},
   "outputs": [
    {
     "data": {
      "image/png": "[encoded data removed]",
      "text/plain": [
       "<Figure size 432x288 with 1 Axes>"
      ]
     },
     "metadata": {
      "needs_background": "light"
     },
     "output_type": "display_data"
    },
    {
     "data": {
      "image/png": "[encoded data removed]",
      "text/plain": [
       "<Figure size 432x288 with 1 Axes>"
      ]
     },
     "metadata": {
      "needs_background": "light"
     },
     "output_type": "display_data"
    }
   ],
   "source": [
    "ada_sgd = AdalineSGD(epochs=15, eta=0.01)\n",
    "ada_sgd.fit(X_std, y)\n",
    "\n",
    "plot_decision_regions(X_std, y, classifier=ada_sgd)\n",
    "plt.title('Adaline - Stochastic Gradient Descent')\n",
    "plt.xlabel('sepal length [standardized]')\n",
    "plt.ylabel('petal length [standardized]')\n",
    "plt.show()\n",
    "\n",
    "plt.plot(range(1, len(ada_sgd.avg_cost_)+1), ada_sgd.avg_cost_, marker='o')\n",
    "plt.xlabel(\"Epochs\")\n",
    "plt.ylabel(\"Average Sum-squared-error\")\n",
    "plt.show()"
   ]
  },
  {
   "cell_type": "markdown",
   "metadata": {},
   "source": [
    "**결과 분석**\n",
    "- batch gradient descent보다 평균 비용이 빠르게 감소"
   ]
  }
 ],
 "metadata": {
  "kernelspec": {
   "display_name": "Python 3",
   "language": "python",
   "name": "python3"
  },
  "language_info": {
   "codemirror_mode": {
    "name": "ipython",
    "version": 3
   },
   "file_extension": ".py",
   "mimetype": "text/x-python",
   "name": "python",
   "nbconvert_exporter": "python",
   "pygments_lexer": "ipython3",
   "version": "3.7.5"
  }
 },
 "nbformat": 4,
 "nbformat_minor": 2
}
