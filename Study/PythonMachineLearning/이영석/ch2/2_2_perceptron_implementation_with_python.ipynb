{
 "cells": [
  {
   "cell_type": "markdown",
   "metadata": {},
   "source": [
    "# 2.2 파이썬으로 퍼셉트론 학습 알고리즘 구현"
   ]
  },
  {
   "cell_type": "markdown",
   "metadata": {},
   "source": [
    "### 2.2.1 객체 지향 퍼셉트론 API\n",
    "\n",
    "- 객체 지향 방식을 사용해 퍼셉트론 인터페이스를 가진 파이썬 클래스를 정의\n",
    "- Perceptron 객체 초기화\n",
    "- fit 메서드로 학습\n",
    "- net_input()으로 최종 입력 계산\n",
    "- predict 메서드로 예측"
   ]
  },
  {
   "cell_type": "code",
   "execution_count": 1,
   "metadata": {},
   "outputs": [],
   "source": [
    "import numpy as np\n",
    "\n",
    "class Perceptron():\n",
    "    def __init__(self, eta=0.01, epochs=50, random_state=1):\n",
    "        self.eta = eta; # learning rate\n",
    "        self.epochs = epochs # 반복 횟수(epochs)\n",
    "        self.random_state = random_state # RandomState초기화할때 쓸값\n",
    "        \n",
    "    \n",
    "        # 학습\n",
    "    def fit(self, X, y):\n",
    "        # np.random.seed()는 global numpy state에 영향을 주는데\n",
    "        # np.random.RandomState()로 객체 생성하면 영향 안주고 따로 쓸 수 있음\n",
    "        rgen = np.random.RandomState(self.random_state)\n",
    "        \n",
    "        # loc   : 분포의 중심 위치\n",
    "        # scale : 표준 편차\n",
    "        # size : 크기 (0번째 항까지 포함하려고 +1해줌)\n",
    "        self.w_ = rgen.normal(loc=0.0, scale=0.01, size=X.shape[1]+1) \n",
    "        \n",
    "        self.errors_ = []\n",
    "        \n",
    "        for _ in range(self.epochs):\n",
    "            errors = 0\n",
    "            for xi, target in zip(X, y):\n",
    "                update = self.eta * (target - self.predict(xi))\n",
    "                self.w_[0]  += update # x0는 1이므로 update*x0 = update\n",
    "                self.w_[1:] += update * xi\n",
    "                errors += int(update != 0.0)\n",
    "                \n",
    "            self.errors_.append(errors)\n",
    "            \n",
    "                \n",
    "        # 예측 결과\n",
    "    def predict(self, xi):\n",
    "        # np.where()은 아래와 같이 3항연산자처럼 쓸 수 있음\n",
    "        return np.where(self.net_input(xi) >= 0.0, 1, -1)\n",
    "        \n",
    "        \n",
    "        # 벡터의 dot product\n",
    "    def net_input(self, xi):\n",
    "        return np.dot(xi, self.w_[1:]) + self.w_[0]"
   ]
  },
  {
   "cell_type": "markdown",
   "metadata": {},
   "source": [
    "- Weight를 정규분포로 초기화 하는 이유\n",
    "    - weight를 0으로 초기화 하면, **학습률 $\\eta$가 가중치 벡터의 크기에만(방향x) 영향**을 미치게 되며 이는 분류 결과에 영향을 주지 못하게 됨\n",
    "    - 꼭 정규분포가 아니어도 0이되지 않는 랜덤한 작은 값을 주기만 하면 됨"
   ]
  },
  {
   "cell_type": "markdown",
   "metadata": {},
   "source": [
    "### 2.2.2 붓꽃 데이터셋에서 퍼셉트론 훈련\n",
    "\n",
    "- 붓꽃 데이터셋에서 Setosa와 Versicolor 2개의 class만 사용\n",
    "- 시각화를 위해 feature는 꽃받침 길이와 꽃잎 길이만 고려\n",
    "- 퍼셉트론 알고리즘은 다중 클래스 분류로도 확장이 가능함 (OvA(One-versus-All) 또는 OvR(One-versus-Rest)를 사용)\n",
    "    - OvA, OvR\n",
    "        - 각 해당하는 클래스를 +, 다른 클래스를 -로 생각하는 방식\n",
    "        - 총 클래스 수와 같은 수의 분류기를 사용"
   ]
  },
  {
   "cell_type": "code",
   "execution_count": 2,
   "metadata": {},
   "outputs": [
    {
     "data": {
      "text/html": [
       "<div>\n",
       "<style scoped>\n",
       "    .dataframe tbody tr th:only-of-type {\n",
       "        vertical-align: middle;\n",
       "    }\n",
       "\n",
       "    .dataframe tbody tr th {\n",
       "        vertical-align: top;\n",
       "    }\n",
       "\n",
       "    .dataframe thead th {\n",
       "        text-align: right;\n",
       "    }\n",
       "</style>\n",
       "<table border=\"1\" class=\"dataframe\">\n",
       "  <thead>\n",
       "    <tr style=\"text-align: right;\">\n",
       "      <th></th>\n",
       "      <th>0</th>\n",
       "      <th>1</th>\n",
       "      <th>2</th>\n",
       "      <th>3</th>\n",
       "      <th>4</th>\n",
       "    </tr>\n",
       "  </thead>\n",
       "  <tbody>\n",
       "    <tr>\n",
       "      <th>145</th>\n",
       "      <td>6.7</td>\n",
       "      <td>3.0</td>\n",
       "      <td>5.2</td>\n",
       "      <td>2.3</td>\n",
       "      <td>Iris-virginica</td>\n",
       "    </tr>\n",
       "    <tr>\n",
       "      <th>146</th>\n",
       "      <td>6.3</td>\n",
       "      <td>2.5</td>\n",
       "      <td>5.0</td>\n",
       "      <td>1.9</td>\n",
       "      <td>Iris-virginica</td>\n",
       "    </tr>\n",
       "    <tr>\n",
       "      <th>147</th>\n",
       "      <td>6.5</td>\n",
       "      <td>3.0</td>\n",
       "      <td>5.2</td>\n",
       "      <td>2.0</td>\n",
       "      <td>Iris-virginica</td>\n",
       "    </tr>\n",
       "    <tr>\n",
       "      <th>148</th>\n",
       "      <td>6.2</td>\n",
       "      <td>3.4</td>\n",
       "      <td>5.4</td>\n",
       "      <td>2.3</td>\n",
       "      <td>Iris-virginica</td>\n",
       "    </tr>\n",
       "    <tr>\n",
       "      <th>149</th>\n",
       "      <td>5.9</td>\n",
       "      <td>3.0</td>\n",
       "      <td>5.1</td>\n",
       "      <td>1.8</td>\n",
       "      <td>Iris-virginica</td>\n",
       "    </tr>\n",
       "  </tbody>\n",
       "</table>\n",
       "</div>"
      ],
      "text/plain": [
       "       0    1    2    3               4\n",
       "145  6.7  3.0  5.2  2.3  Iris-virginica\n",
       "146  6.3  2.5  5.0  1.9  Iris-virginica\n",
       "147  6.5  3.0  5.2  2.0  Iris-virginica\n",
       "148  6.2  3.4  5.4  2.3  Iris-virginica\n",
       "149  5.9  3.0  5.1  1.8  Iris-virginica"
      ]
     },
     "execution_count": 2,
     "metadata": {},
     "output_type": "execute_result"
    }
   ],
   "source": [
    "# 붓꽃 데이터셋 로드\n",
    "import pandas as pd\n",
    "df = pd.read_csv(\"https://archive.ics.uci.edu/ml/machine-learning-databases/iris/iris.data\",\n",
    "                header=None)\n",
    "df.tail()"
   ]
  },
  {
   "cell_type": "code",
   "execution_count": 3,
   "metadata": {},
   "outputs": [
    {
     "name": "stdout",
     "output_type": "stream",
     "text": [
      "(100, 2)\n"
     ]
    },
    {
     "data": {
      "image/png": "[encoded data removed]",
      "text/plain": [
       "<Figure size 432x288 with 1 Axes>"
      ]
     },
     "metadata": {
      "needs_background": "light"
     },
     "output_type": "display_data"
    }
   ],
   "source": [
    "import matplotlib.pyplot as plt\n",
    "\n",
    "# 4번째 열이 class\n",
    "# Iris-setosa면 1, Iris-versicolor -1\n",
    "y = df.iloc[0:100, 4].values\n",
    "y = np.where(y=='Iris-setosa', 1, -1)\n",
    "\n",
    "# 2번째, 4번째 열이 각각 꽃받침 길이, 꽃잎 길이\n",
    "X = df.iloc[0:100, [0, 2]].values\n",
    "print(X.shape)\n",
    "\n",
    "# 산점도 그리기\n",
    "plt.scatter(x=X[:50, 0], y=X[:50, 1], color='red', marker='o', label='Iris-setosa')\n",
    "plt.scatter(x=X[50:, 0], y=X[50:, 1], color='blue', marker='x', label='Iris-versicolor')\n",
    "plt.xlabel(\"Sepal length [cm]\")\n",
    "plt.ylabel(\"Petal length [cm]\")\n",
    "plt.legend(loc='best')\n",
    "plt.show()"
   ]
  },
  {
   "cell_type": "code",
   "execution_count": 4,
   "metadata": {},
   "outputs": [
    {
     "data": {
      "image/png": "[encoded data removed]",
      "text/plain": [
       "<Figure size 432x288 with 1 Axes>"
      ]
     },
     "metadata": {
      "needs_background": "light"
     },
     "output_type": "display_data"
    },
    {
     "name": "stdout",
     "output_type": "stream",
     "text": [
      "weight vector : [ 0.41624345  0.75388244 -1.86528172]\n"
     ]
    }
   ],
   "source": [
    "# Perceptron으로 학습\n",
    "\n",
    "p = Perceptron(eta=0.1, epochs=10)\n",
    "p.fit(X, y)\n",
    "plt.plot(range(1, p.epochs+1), p.errors_, marker='o')\n",
    "plt.xlabel(\"Epochs\")\n",
    "plt.ylabel(\"Number of Errors\")\n",
    "plt.show()\n",
    "\n",
    "print(\"weight vector :\", p.w_)"
   ]
  },
  {
   "cell_type": "markdown",
   "metadata": {},
   "source": [
    "**6번째 epoch이후 수렴하였고, 완벽히 분류 했음**"
   ]
  },
  {
   "cell_type": "code",
   "execution_count": 5,
   "metadata": {},
   "outputs": [],
   "source": [
    "from matplotlib.colors import ListedColormap\n",
    "\n",
    "def plot_decision_regions(X, y, classifier, resolution=0.02):\n",
    "    # matplotlib에서 정의한 점 표시 모양\n",
    "    markers = ('s', 'x', 'o', '^', 'v')\n",
    "    # 각 점을 표시할 색깔\n",
    "    colors = ('red', 'blue', 'lightgreen', 'gray', 'cyan')\n",
    "    # y에 있는 class의 수 만큼의 color map을 만듦\n",
    "    cmap = ListedColormap(colors[:len(np.unique(y))])\n",
    "    \n",
    "    # 각 feature의 최소값-1에서, 최대값+1까지 resolution간격인 배열을 만들고\n",
    "    # 그 배열들을 각각 X, Y축으로 하는 좌표 평면 배열을 만듦\n",
    "    x1_min, x1_max = X[:, 0].min()-1, X[:, 0].max()+1\n",
    "    x2_min, x2_max = X[:, 1].min()-1, X[:, 1].max()+1\n",
    "    xx1, xx2 = np.meshgrid(np.arange(x1_min, x1_max, resolution),\n",
    "                           np.arange(x2_min, x2_max, resolution))\n",
    "    \n",
    "    # feature의 범위로 이루어진 좌표 평면 배열을 \n",
    "    # 우리가 만든 퍼셉트론의 predict()에 인자로 전달해\n",
    "    # predict값으로 이루어진 좌표 평면 배열을 만듦\n",
    "    Z = classifier.predict(np.array([xx1.ravel(), xx2.ravel()]).T)\n",
    "    Z = Z.reshape(xx1.shape)\n",
    "    \n",
    "    # 위에서 만든 predict값 좌표 평면 그리드를\n",
    "    # contourf()를 통해 등고선 그래프로 그린다.\n",
    "    plt.contourf(xx1, xx2, Z, alpha=0.3, cmap=cmap)\n",
    "    plt.xlim(xx1.min(), xx1.max())\n",
    "    plt.ylim(xx2.min(), xx2.max())\n",
    "    \n",
    "    # 산점도 그리기\n",
    "    for idx, cl in enumerate(np.unique(y)):\n",
    "        plt.scatter(x=X[y==cl, 0],\n",
    "                    y=X[y==cl, 1],\n",
    "                    alpha=0.8,\n",
    "                    c=colors[idx],\n",
    "                    marker=markers[idx],\n",
    "                    label=cl,\n",
    "                    edgecolor='black')"
   ]
  },
  {
   "cell_type": "code",
   "execution_count": 6,
   "metadata": {
    "scrolled": true
   },
   "outputs": [
    {
     "data": {
      "image/png": "[encoded data removed]",
      "text/plain": [
       "<Figure size 432x288 with 1 Axes>"
      ]
     },
     "metadata": {
      "needs_background": "light"
     },
     "output_type": "display_data"
    }
   ],
   "source": [
    "plot_decision_regions(X, y, classifier=p)\n",
    "plt.xlabel('Sepal length [cm]')\n",
    "plt.ylabel('Petal length [cm]')\n",
    "plt.legend(loc='upper left')\n",
    "plt.show()"
   ]
  }
 ],
 "metadata": {
  "kernelspec": {
   "display_name": "Python 3",
   "language": "python",
   "name": "python3"
  },
  "language_info": {
   "codemirror_mode": {
    "name": "ipython",
    "version": 3
   },
   "file_extension": ".py",
   "mimetype": "text/x-python",
   "name": "python",
   "nbconvert_exporter": "python",
   "pygments_lexer": "ipython3",
   "version": "3.7.5"
  }
 },
 "nbformat": 4,
 "nbformat_minor": 2
}
